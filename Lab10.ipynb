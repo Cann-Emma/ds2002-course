{
  "nbformat": 4,
  "nbformat_minor": 0,
  "metadata": {
    "colab": {
      "provenance": [],
      "authorship_tag": "ABX9TyNpp9tvKBN/2rBg76f1wVCF",
      "include_colab_link": true
    },
    "kernelspec": {
      "name": "python3",
      "display_name": "Python 3"
    },
    "language_info": {
      "name": "python"
    }
  },
  "cells": [
    {
      "cell_type": "markdown",
      "metadata": {
        "id": "view-in-github",
        "colab_type": "text"
      },
      "source": [
        "<a href=\"https://colab.research.google.com/github/cann-emma/ds2002-course/blob/main/Lab10.ipynb\" target=\"_parent\"><img src=\"https://colab.research.google.com/assets/colab-badge.svg\" alt=\"Open In Colab\"/></a>"
      ]
    },
    {
      "cell_type": "code",
      "execution_count": 34,
      "metadata": {
        "colab": {
          "base_uri": "https://localhost:8080/"
        },
        "id": "zSQ0YNKfuxbE",
        "outputId": "167ffc9a-d24c-47a1-b148-e15de2e7958b"
      },
      "outputs": [
        {
          "output_type": "stream",
          "name": "stdout",
          "text": [
            "Error: division by zero\n"
          ]
        }
      ],
      "source": [
        "def throw_me_an_error():\n",
        "  val1 = 14\n",
        "  val2 = 0\n",
        "  try:\n",
        "    return val1 / val2\n",
        "  except Exception as e:\n",
        "   print(\"Error:\", e)\n",
        "\n",
        "throw_me_an_error()\n"
      ]
    },
    {
      "cell_type": "code",
      "source": [
        "def write_data_to_file(data, filename):\n",
        "  try:\n",
        "    with open(filename, 'w', encoding='utf-8') as file:\n",
        "      file.write(data)\n",
        "  except FileNotFoundError as e:\n",
        "    print(f\"Error: File {filename} not found.\")\n",
        "  except PermissionError as e:\n",
        "    print(f\"Error: Permission denied to write to {filename}.\")\n",
        "  finally:\n",
        "    if 'file' in locals():  # Check if 'file' variable exists (was opened)\n",
        "      file.close()  # Close the file if it was opened\n",
        "\n",
        "# Example usage\n",
        "data = \"This is some data to write to the file.\"\n",
        "filename = \"my_data.txt\"\n",
        "write_data_to_file(data, filename)"
      ],
      "metadata": {
        "id": "fRWq2HCxvhS_"
      },
      "execution_count": 36,
      "outputs": []
    },
    {
      "cell_type": "markdown",
      "source": [
        "Explain the function of the finally block in this snippet. What purpose does it\n",
        "serve?\n",
        "\n",
        "It catches everything else whether try or except work or not. It serves as a clean up."
      ],
      "metadata": {
        "id": "jJmJdVyPvsMX"
      }
    },
    {
      "cell_type": "code",
      "source": [
        "import json\n",
        "\n",
        "data = '{\"invalid_json_key\": \"value\"}'\n",
        "try:\n",
        "  # Attempt to load the JSON data\n",
        "  json.loads(data)\n",
        "except json.JSONDecodeError as e:\n",
        "  # Print the JSON import error\n",
        "  print(f\"JSON import error: {e}\")"
      ],
      "metadata": {
        "id": "ZOZw3L5Ovqyq"
      },
      "execution_count": 33,
      "outputs": []
    }
  ]
}